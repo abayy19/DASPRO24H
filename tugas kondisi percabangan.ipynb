{
 "cells": [
  {
   "cell_type": "markdown",
   "id": "2ba3b757-295b-49fb-80c6-f2f8fdf4d98d",
   "metadata": {},
   "source": [
    "<h1>Menetukan Kategori usia</h1>"
   ]
  },
  {
   "cell_type": "code",
   "execution_count": 3,
   "id": "130daee7-d3ba-42af-94bc-287f8630eb9a",
   "metadata": {},
   "outputs": [
    {
     "name": "stdin",
     "output_type": "stream",
     "text": [
      "Masukkan usia:  25\n"
     ]
    },
    {
     "name": "stdout",
     "output_type": "stream",
     "text": [
      "Kategori usia: Dewasa\n"
     ]
    }
   ],
   "source": [
    "usia = int(input(\"Masukkan usia: \"))\n",
    "\n",
    "if 0 <= usia <= 12:\n",
    "    kategori = \"Anak-anak\"\n",
    "elif 13 <= usia <= 17:\n",
    "    kategori = \"Remaja\"\n",
    "elif 18 <= usia <= 59:\n",
    "    kategori = \"Dewasa\"\n",
    "elif usia >= 60:\n",
    "    kategori = \"Lansia\"\n",
    "else:\n",
    "    kategori = \"Usia tidak valid\"\n",
    "\n",
    "print(f\"Kategori usia: {kategori}\")\n"
   ]
  },
  {
   "cell_type": "markdown",
   "id": "37459370-6b5e-45d9-a52c-5ae142f6e46f",
   "metadata": {},
   "source": [
    "<h1>Menentukan Harga Tiket</h1>"
   ]
  },
  {
   "cell_type": "code",
   "execution_count": 5,
   "id": "807a217e-40ad-4225-8260-78d1f38edfa3",
   "metadata": {},
   "outputs": [
    {
     "name": "stdin",
     "output_type": "stream",
     "text": [
      "Isikan Umur Tiket 1:  15\n",
      "Isikan Umur Tiket 2:  7\n",
      "Isikan Umur Tiket 3:  65\n"
     ]
    },
    {
     "name": "stdout",
     "output_type": "stream",
     "text": [
      "Total harga yang harus dibayar: Rp 25000\n"
     ]
    }
   ],
   "source": [
    "tiket1 = int(input(\"Isikan Umur Tiket 1: \"))\n",
    "tiket2 = int(input(\"Isikan Umur Tiket 2: \"))\n",
    "tiket3 = int(input(\"Isikan Umur Tiket 3: \"))\n",
    "\n",
    "def harga_tiket(usia):\n",
    "    if usia <= 12:\n",
    "        return 10000\n",
    "    elif usia <= 17:\n",
    "        return 15000\n",
    "    elif usia <= 59:\n",
    "        return 25000\n",
    "    else:\n",
    "        return 0  # Lansia 60 tahun ke atas gratis\n",
    "\n",
    "# Menghitung total harga tiket\n",
    "total_harga = harga_tiket(tiket1) + harga_tiket(tiket2) + harga_tiket(tiket3)\n",
    "\n",
    "print(f\"Total harga yang harus dibayar: Rp {total_harga}\")"
   ]
  },
  {
   "cell_type": "markdown",
   "id": "bde0b838-2347-41bc-8bb5-86fd683bd0ba",
   "metadata": {},
   "source": [
    "<h1>Menghitung Harga Setelah Diskon</h1>"
   ]
  },
  {
   "cell_type": "code",
   "execution_count": 1,
   "id": "7baa1587-654a-4439-b382-34b98f193dd6",
   "metadata": {},
   "outputs": [
    {
     "name": "stdin",
     "output_type": "stream",
     "text": [
      "Masukkan harga makanan:  60000\n",
      "Masukkan usia:  9\n"
     ]
    },
    {
     "name": "stdout",
     "output_type": "stream",
     "text": [
      "Harga setelah diskon: Rp 30000.00\n"
     ]
    }
   ],
   "source": [
    "harga_awal = float(input(\"Masukkan harga makanan: \"))\n",
    "usia = int(input(\"Masukkan usia: \"))\n",
    "\n",
    "if 0 <= usia <= 12:\n",
    "    diskon = 0.5  # 50% diskon\n",
    "elif usia >= 60:\n",
    "    diskon = 0.3  # 30% diskon\n",
    "else:\n",
    "    diskon = 0  # Tidak ada diskon\n",
    "\n",
    "harga_akhir = harga_awal * (1 - diskon)\n",
    "print(f\"Harga setelah diskon: Rp {harga_akhir:.2f}\")"
   ]
  },
  {
   "cell_type": "markdown",
   "id": "1b982fbe-dee9-440c-87a6-4c45a84d93f3",
   "metadata": {},
   "source": [
    "<h1>Program Beasiswa</h1>"
   ]
  },
  {
   "cell_type": "code",
   "execution_count": 4,
   "id": "57471b5f-2f2f-471a-ad35-56db3e40d708",
   "metadata": {},
   "outputs": [
    {
     "name": "stdin",
     "output_type": "stream",
     "text": [
      "Masukkan nilai rapor:  60\n",
      "Masukkan penghasilan orang tua:  4000000\n"
     ]
    },
    {
     "name": "stdout",
     "output_type": "stream",
     "text": [
      "Hasil: Tidak mendapatkan beasiswa\n"
     ]
    }
   ],
   "source": [
    "nilai = float(input(\"Masukkan nilai rapor: \"))\n",
    "penghasilan = float(input(\"Masukkan penghasilan orang tua: \"))\n",
    "\n",
    "if nilai >= 90 and penghasilan < 5000000:\n",
    "    beasiswa = \"Beasiswa Penuh\"\n",
    "elif nilai >= 85 and penghasilan < 8000000:\n",
    "    beasiswa = \"Beasiswa 50%\"\n",
    "else:\n",
    "    beasiswa = \"Tidak mendapatkan beasiswa\"\n",
    "\n",
    "print(f\"Hasil: {beasiswa}\")"
   ]
  },
  {
   "cell_type": "markdown",
   "id": "dd961479-224d-4ea5-8930-0d580101a60f",
   "metadata": {},
   "source": [
    "<h1>Batasan Usia Menonton Film</h1>"
   ]
  },
  {
   "cell_type": "code",
   "execution_count": 7,
   "id": "42613170-6944-461f-af25-f9441156a483",
   "metadata": {},
   "outputs": [
    {
     "name": "stdin",
     "output_type": "stream",
     "text": [
      "Masukkan usia Anda:  15\n",
      "Masukkan kategori film (Semua Umur/Remaja/Dewasa):  remaja\n"
     ]
    },
    {
     "name": "stdout",
     "output_type": "stream",
     "text": [
      "Anda boleh menonton film ini.\n"
     ]
    }
   ],
   "source": [
    "usia = int(input(\"Masukkan usia Anda: \"))\n",
    "kategori_film = input(\"Masukkan kategori film (Semua Umur/Remaja/Dewasa): \").lower()\n",
    "\n",
    "if kategori_film == \"semua umur\":\n",
    "    boleh_nonton = True\n",
    "elif kategori_film == \"remaja\" and usia >= 13:\n",
    "    boleh_nonton = True\n",
    "elif kategori_film == \"dewasa\" and usia >= 18:\n",
    "    boleh_nonton = True\n",
    "else:\n",
    "    boleh_nonton = False\n",
    "\n",
    "if boleh_nonton:\n",
    "    print(\"Anda boleh menonton film ini.\")\n",
    "else:\n",
    "    print(\"Anda tidak boleh menonton film ini.\")"
   ]
  },
  {
   "cell_type": "markdown",
   "id": "ad3ee648-7be0-4890-95d5-83eee336077f",
   "metadata": {},
   "source": [
    "<h1>Menentukan Harga Setelah Diskon Di Toko</h1>"
   ]
  },
  {
   "cell_type": "code",
   "execution_count": 12,
   "id": "169378f4-7fbb-4306-b489-3145e5733930",
   "metadata": {},
   "outputs": [
    {
     "name": "stdin",
     "output_type": "stream",
     "text": [
      "Masukkan total belanja:  700000\n"
     ]
    },
    {
     "name": "stdout",
     "output_type": "stream",
     "text": [
      "Harga setelah diskon: Rp 560000.00\n"
     ]
    }
   ],
   "source": [
    "total_belanja = float(input(\"Masukkan total belanja: \"))\n",
    "\n",
    "if total_belanja >= 500000:\n",
    "    diskon = 0.2  # 20% diskon\n",
    "elif total_belanja >= 250000:\n",
    "    diskon = 0.1  # 10% diskon\n",
    "else:\n",
    "    diskon = 0  # Tidak ada diskon\n",
    "\n",
    "harga_akhir = total_belanja * (1 - diskon)\n",
    "print(f\"Harga setelah diskon: Rp {harga_akhir:.2f}\")"
   ]
  },
  {
   "cell_type": "markdown",
   "id": "21bc621e-4fd9-4ff3-8cb4-750a83c78886",
   "metadata": {},
   "source": [
    "<h1>Menghitung Biaya Parkir</h1>"
   ]
  },
  {
   "cell_type": "code",
   "execution_count": 15,
   "id": "3ff96b89-ceb1-4583-a7ac-e7c37ddf7e18",
   "metadata": {},
   "outputs": [
    {
     "name": "stdin",
     "output_type": "stream",
     "text": [
      "Masukkan total belanja:  7800000\n"
     ]
    },
    {
     "name": "stdout",
     "output_type": "stream",
     "text": [
      "Harga setelah diskon: Rp 6240000.00\n"
     ]
    }
   ],
   "source": [
    "total_belanja = float(input(\"Masukkan total belanja: \"))\n",
    "\n",
    "if total_belanja >= 500000:\n",
    "    diskon = 0.2  # 20% diskon\n",
    "elif total_belanja >= 250000:\n",
    "    diskon = 0.1  # 10% diskon\n",
    "else:\n",
    "    diskon = 0  # Tidak ada diskon\n",
    "\n",
    "harga_akhir = total_belanja * (1 - diskon)\n",
    "print(f\"Harga setelah diskon: Rp {harga_akhir:.2f}\")"
   ]
  },
  {
   "cell_type": "markdown",
   "id": "ba8fdbfa-ac2f-41bd-b66f-84b7d1edc5b5",
   "metadata": {},
   "source": [
    "<h1>Menghitung Tarif Berdasarkan Jarak</h1>"
   ]
  },
  {
   "cell_type": "code",
   "execution_count": 18,
   "id": "8c3813a8-c80f-4db0-a8e8-eb9d8a544006",
   "metadata": {},
   "outputs": [
    {
     "name": "stdin",
     "output_type": "stream",
     "text": [
      "Masukkan jarak perjalanan (km):  7\n"
     ]
    },
    {
     "name": "stdout",
     "output_type": "stream",
     "text": [
      "Total tarif perjalanan: Rp 28000.00\n"
     ]
    }
   ],
   "source": [
    "jarak = float(input(\"Masukkan jarak perjalanan (km): \"))\n",
    "\n",
    "if jarak <= 5:\n",
    "    tarif_per_km = 5000\n",
    "elif 6 <= jarak <= 10:\n",
    "    tarif_per_km = 4000\n",
    "else:\n",
    "    tarif_per_km = 3000\n",
    "\n",
    "total_tarif = jarak * tarif_per_km\n",
    "\n",
    "print(f\"Total tarif perjalanan: Rp {total_tarif:.2f}\")"
   ]
  },
  {
   "cell_type": "markdown",
   "id": "24259cf9-38fc-42a6-bbef-84c7dc676a00",
   "metadata": {},
   "source": [
    "<h1>Sistem Penerimaan Calon Programer</h1>"
   ]
  },
  {
   "cell_type": "code",
   "execution_count": 21,
   "id": "0f56ee8b-c61d-4a34-9cbe-11ccf79d1f80",
   "metadata": {},
   "outputs": [
    {
     "name": "stdin",
     "output_type": "stream",
     "text": [
      "Masukkan nilai coding (0-100):  78\n",
      "Masukkan nilai interview (A/B/C/D):  b\n"
     ]
    },
    {
     "name": "stdout",
     "output_type": "stream",
     "text": [
      "Selamat Kamu Berhasil Menjadi Calon Programmer\n"
     ]
    }
   ],
   "source": [
    "nilai_coding = int(input(\"Masukkan nilai coding (0-100): \"))\n",
    "nilai_interview = input(\"Masukkan nilai interview (A/B/C/D): \").upper()\n",
    "\n",
    "if nilai_coding > 80:\n",
    "    hasil_coding = \"LOLOS\"\n",
    "elif 60 <= nilai_coding <= 80:\n",
    "    hasil_coding = \"DIPERTIMBANGKAN\"\n",
    "else:\n",
    "    hasil_coding = \"GAGAL\"\n",
    "\n",
    "# Menentukan hasil tes interview\n",
    "if nilai_interview == \"A\" or nilai_interview == \"B\":\n",
    "    hasil_interview = \"LOLOS\"\n",
    "else:\n",
    "    hasil_interview = \"GAGAL\"\n",
    "\n",
    "if (hasil_coding == \"LOLOS\" or hasil_coding == \"DIPERTIMBANGKAN\") and hasil_interview == \"LOLOS\":\n",
    "    print(\"Selamat Kamu Berhasil Menjadi Calon Programmer\")\n",
    "else:\n",
    "    print(\"Maaf Kamu Belum Berhasil Menjadi Calon Programmer\")"
   ]
  },
  {
   "cell_type": "markdown",
   "id": "590d0c4d-f2d2-4227-b8d4-70a113144f82",
   "metadata": {},
   "source": [
    "<h1>Pengecekan Nomor Punggung di Klub PERSEGI FC</h1>"
   ]
  },
  {
   "cell_type": "code",
   "execution_count": 32,
   "id": "3824cfe4-267c-4ef2-a784-f5e8af1487cf",
   "metadata": {},
   "outputs": [
    {
     "name": "stdin",
     "output_type": "stream",
     "text": [
      "Masukkan nomor punggung:  8\n"
     ]
    },
    {
     "name": "stdout",
     "output_type": "stream",
     "text": [
      "Nomor punggung 8 dapat digunakan untuk posisi: Target Attacker\n"
     ]
    }
   ],
   "source": [
    "nomor_punggung = int(input(\"Masukkan nomor punggung: \"))\n",
    "\n",
    "# Menentukan posisi berdasarkan aturan\n",
    "posisi = []\n",
    "\n",
    "if nomor_punggung % 2 == 0:\n",
    "    posisi.append(\"Target Attacker\")\n",
    "    if 50 <= nomor_punggung <= 100:\n",
    "        posisi.append(\"Berhak dipilih menjadi kapten tim\")\n",
    "else:\n",
    "    posisi.append(\"Defender\")\n",
    "    if nomor_punggung > 90:\n",
    "        posisi.append(\"Playmaker\")\n",
    "    if nomor_punggung % 3 == 0 and nomor_punggung % 5 == 0:\n",
    "        posisi.append(\"Keeper\")\n",
    "\n",
    "if posisi:\n",
    "    print(f\"Nomor punggung {nomor_punggung} dapat digunakan untuk posisi: {', '.join(posisi)}\")\n",
    "else:\n",
    "    print(f\"Nomor punggung {nomor_punggung} tidak memiliki posisi yang sesuai.\")"
   ]
  },
  {
   "cell_type": "code",
   "execution_count": null,
   "id": "82d17499-6e84-41e5-97ea-c4450da9fa2d",
   "metadata": {},
   "outputs": [],
   "source": []
  }
 ],
 "metadata": {
  "kernelspec": {
   "display_name": "Python [conda env:base] *",
   "language": "python",
   "name": "conda-base-py"
  },
  "language_info": {
   "codemirror_mode": {
    "name": "ipython",
    "version": 3
   },
   "file_extension": ".py",
   "mimetype": "text/x-python",
   "name": "python",
   "nbconvert_exporter": "python",
   "pygments_lexer": "ipython3",
   "version": "3.12.7"
  }
 },
 "nbformat": 4,
 "nbformat_minor": 5
}
