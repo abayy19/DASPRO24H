{
 "cells": [
  {
   "cell_type": "markdown",
   "id": "ad71997b-6a96-466f-a5ad-3fa9523a092d",
   "metadata": {},
   "source": [
    "<center><img src=\"https://blogger.googleusercontent.com/img/b/R29vZ2xl/AVvXsEgeIKe_gOjXT32Fl6PV1uU5iz9Cbg_3JqR-IMmhZvrRyxwpUu3AcdxUwor4BXTsE6bLlFQLPcy0A333KA0gmcyflhIu-yXHDhj0NmuCDtwTOYtZ9_CDq1sAmZCoNKqfC-LRxXrw1a9kSdg/s1600/Persib+Vector.v2+finsvector.blogspot.com.png\" width=\"300\" ></center><br> pada jupyter notebooks jenis <b>cell</b> terbagi menjadi\n",
    "<ol>\n",
    "    <li>M (Mark Down) -> M</li>\n",
    "    <li>Y (Code) -> Y</li>\n",
    "</ol>\n",
    "<hr>"
   ]
  },
  {
   "cell_type": "markdown",
   "id": "1b1501ef-7065-4b61-b2fd-ad5bbc3a9b3a",
   "metadata": {},
   "source": [
    "Cara menambahkan <b>cell</b> terbagi menjadi 2:\n",
    "<ul>\n",
    "    <li>A -(Above) Menambah diatas cell aktif</li>\n",
    "    <li>B -(Below) Menambah dibawah cell aktif</LI>\n",
    "</ul>\n",
    "\n",
    "<table>\n",
    "    <tr>\n",
    "        <td>Perintah</td>\n",
    "        <td>Keterangan</td>\n",
    "    </tr>\n",
    "    <tr>\n",
    "        <td>ctrl + center</td>\n",
    "        <td>Running program dengan fokus di cell aktif</td>\n",
    "    </tr>\n",
    "    <tr>\n",
    "        <td>shift + enter</td>\n",
    "        <td>Running program dengan fokus di cell berikutnya</td>\n",
    "    </tr>\n",
    "    \n",
    "</table>"
   ]
  },
  {
   "cell_type": "code",
   "execution_count": 4,
   "id": "32e4ef41-4750-4a62-b2a4-d9eea67a4470",
   "metadata": {},
   "outputs": [
    {
     "name": "stdout",
     "output_type": "stream",
     "text": [
      "python is very easy\n",
      "4\n"
     ]
    },
    {
     "data": {
      "text/plain": [
       "'4'"
      ]
     },
     "execution_count": 4,
     "metadata": {},
     "output_type": "execute_result"
    }
   ],
   "source": [
    "#this is comment\n",
    "print(\"python is very easy\")\n",
    "data = \"4\"\n",
    "print(data)\n",
    "data"
   ]
  },
  {
   "cell_type": "code",
   "execution_count": null,
   "id": "54841c27-d01d-4ac4-86da-4eb11bb7f54b",
   "metadata": {},
   "outputs": [],
   "source": []
  }
 ],
 "metadata": {
  "kernelspec": {
   "display_name": "Python [conda env:base] *",
   "language": "python",
   "name": "conda-base-py"
  },
  "language_info": {
   "codemirror_mode": {
    "name": "ipython",
    "version": 3
   },
   "file_extension": ".py",
   "mimetype": "text/x-python",
   "name": "python",
   "nbconvert_exporter": "python",
   "pygments_lexer": "ipython3",
   "version": "3.12.7"
  }
 },
 "nbformat": 4,
 "nbformat_minor": 5
}
