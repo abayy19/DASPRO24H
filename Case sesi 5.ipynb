{
 "cells": [
  {
   "cell_type": "markdown",
   "id": "c7ba6e2b-d2dd-45eb-9524-d527a192a210",
   "metadata": {},
   "source": [
    "<h1>Biodata Sederhana dengan input() dan format()</h1>"
   ]
  },
  {
   "cell_type": "code",
   "execution_count": 1,
   "id": "6f562f54-be00-457e-b0be-305a8a3b72d7",
   "metadata": {},
   "outputs": [
    {
     "name": "stdin",
     "output_type": "stream",
     "text": [
      "Masukkan Nama:  Muhammad Rizky Akbar Supandi\n",
      "Masukkan Umur:  19\n",
      "Masukkan Alamat:  Parungkuda\n"
     ]
    },
    {
     "name": "stdout",
     "output_type": "stream",
     "text": [
      "\n",
      "=== BIODATA ===\n",
      "Nama: Muhammad Rizky Akbar Supandi\n",
      "Umur: 19\n",
      "Alamat: Parungkuda\n"
     ]
    }
   ],
   "source": [
    "nama = input(\"Masukkan Nama: \")\n",
    "umur = input(\"Masukkan Umur: \")\n",
    "alamat = input(\"Masukkan Alamat: \")\n",
    "\n",
    "biodata = \"Nama: {}\\nUmur: {}\\nAlamat: {}\".format(nama, umur, alamat)\n",
    "print(\"\\n=== BIODATA ===\")\n",
    "print(biodata)"
   ]
  },
  {
   "cell_type": "markdown",
   "id": "0efcb0f9-de15-42ee-a8ec-d61ba0521c6c",
   "metadata": {},
   "source": [
    "<h1>Manipulasi String</h1>"
   ]
  },
  {
   "cell_type": "code",
   "execution_count": 3,
   "id": "e35ff9cd-7e87-43b8-9f19-a0d7a01badde",
   "metadata": {},
   "outputs": [
    {
     "name": "stdout",
     "output_type": "stream",
     "text": [
      "\n",
      "a. putra nusa\n",
      "b. NIVERSITAS NSA PTRA SKABMI\n",
      "c. SUKABUMI PUTRA NUSA UNIVERSITAS\n",
      "d. UNPS\n",
      "e. SIT USA BUMI\n"
     ]
    }
   ],
   "source": [
    "kalimat = \"UNIVERSITAS NUSA PUTRA SUKABUMI\"\n",
    "\n",
    "# 1. Menukar Posisi\n",
    "output_a = \" \".join(kalimat.split()[2:0:-1]).lower()\n",
    "\n",
    "# 2. Menghapus huruf U dan memodifikasinya\n",
    "output_b = kalimat.replace(\"U\", \"\")\n",
    "\n",
    "# 3. Membalik urutan kata\n",
    "output_c = \" \".join(kalimat.split()[::-1])\n",
    "\n",
    "# 4. mengambil huruf pertama dari setiap kata\n",
    "output_d = \"\".join([word[0] for word in kalimat.split()])\n",
    "\n",
    "# 5. mengambil beberapa suku kata\n",
    "output_e = kalimat[6:9] + \" \" + kalimat[13:16] + \" \" + kalimat[-4:]\n",
    "\n",
    "# Cetak hasil\n",
    "print(\"\\na.\", output_a)\n",
    "print(\"b.\", output_b)\n",
    "print(\"c.\", output_c)\n",
    "print(\"d.\", output_d)\n",
    "print(\"e.\", output_e)"
   ]
  },
  {
   "cell_type": "code",
   "execution_count": null,
   "id": "4d1e6149-ebbb-46c2-a23b-64f2e744fd56",
   "metadata": {},
   "outputs": [],
   "source": []
  }
 ],
 "metadata": {
  "kernelspec": {
   "display_name": "Python [conda env:base] *",
   "language": "python",
   "name": "conda-base-py"
  },
  "language_info": {
   "codemirror_mode": {
    "name": "ipython",
    "version": 3
   },
   "file_extension": ".py",
   "mimetype": "text/x-python",
   "name": "python",
   "nbconvert_exporter": "python",
   "pygments_lexer": "ipython3",
   "version": "3.12.7"
  }
 },
 "nbformat": 4,
 "nbformat_minor": 5
}
