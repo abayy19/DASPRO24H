{
 "cells": [
  {
   "cell_type": "markdown",
   "id": "c9a42917-6973-4218-bf3d-52947a2d5b2a",
   "metadata": {},
   "source": [
    "<h1>Operator Aritmatika</h1>"
   ]
  },
  {
   "cell_type": "code",
   "execution_count": 2,
   "id": "247d69d6-9938-4ce3-b598-7debc81484b5",
   "metadata": {},
   "outputs": [
    {
     "name": "stdout",
     "output_type": "stream",
     "text": [
      "Setiap teman mendapatkan: 3.0\n",
      "Total apel sekarang: 20\n"
     ]
    }
   ],
   "source": [
    "# Pembagian apel\n",
    "total_apel = 12\n",
    "jumlah_teman = 4\n",
    "apel_per_teman = total_apel / jumlah_teman\n",
    "print(\"Setiap teman mendapatkan:\", apel_per_teman)\n",
    "\n",
    "# Penambahan apel\n",
    "tambahan_apel = 8\n",
    "total_apel += tambahan_apel\n",
    "print(\"Total apel sekarang:\", total_apel)"
   ]
  },
  {
   "cell_type": "markdown",
   "id": "bf983385-addb-4885-8868-74278d2dc000",
   "metadata": {},
   "source": [
    "<h1>Operator Perbandingan</h1>"
   ]
  },
  {
   "cell_type": "code",
   "execution_count": 5,
   "id": "8b4d532f-c865-4b93-af4f-c7321ec6940c",
   "metadata": {},
   "outputs": [
    {
     "name": "stdout",
     "output_type": "stream",
     "text": [
      "Apakah Siti lebih tinggi dari Andi? False\n",
      "Apakah Andi lebih tinggi dari Siti? True\n"
     ]
    }
   ],
   "source": [
    "siti_tinggi = 160\n",
    "andi_tinggi = 165\n",
    "\n",
    "print(\"Apakah Siti lebih tinggi dari Andi?\", siti_tinggi > andi_tinggi)\n",
    "print(\"Apakah Andi lebih tinggi dari Siti?\", andi_tinggi > siti_tinggi)"
   ]
  },
  {
   "cell_type": "markdown",
   "id": "cfcfeae9-1c2b-4d91-921f-0ba86189f254",
   "metadata": {},
   "source": [
    "<h1>Operator Logika</h1>"
   ]
  },
  {
   "cell_type": "code",
   "execution_count": 8,
   "id": "a1ad9865-f37d-46da-8767-3b2edf5e4aeb",
   "metadata": {},
   "outputs": [
    {
     "name": "stdout",
     "output_type": "stream",
     "text": [
      "Budi bisa bermain di luar? False\n"
     ]
    }
   ],
   "source": [
    "cuaca_cerah = True\n",
    "pr_selesai = False\n",
    "\n",
    "bisa_bermain = cuaca_cerah and pr_selesai\n",
    "print(\"Budi bisa bermain di luar?\", bisa_bermain)"
   ]
  },
  {
   "cell_type": "markdown",
   "id": "d77f7299-f27b-4ef6-9f62-e756f9c75844",
   "metadata": {},
   "source": [
    "<h1>Operator Bitwise</h1>"
   ]
  },
  {
   "cell_type": "code",
   "execution_count": 13,
   "id": "b5816239-5732-462c-b4c5-df3195a49dcb",
   "metadata": {},
   "outputs": [
    {
     "name": "stdout",
     "output_type": "stream",
     "text": [
      "AND: 2\n",
      "OR : 7\n",
      "XOR: 5\n"
     ]
    }
   ],
   "source": [
    "a = 6  # 0110\n",
    "b = 3  # 0011\n",
    "\n",
    "print(\"AND:\", a & b)   # 0010 -> 2\n",
    "print(\"OR :\", a | b)   # 0111 -> 7\n",
    "print(\"XOR:\", a ^ b)   # 0101 -> 5"
   ]
  },
  {
   "cell_type": "markdown",
   "id": "fbed5d23-160b-4010-a3b3-02d3aca79cc5",
   "metadata": {},
   "source": [
    "<h1>Operator Penugasan</h1>"
   ]
  },
  {
   "cell_type": "code",
   "execution_count": 16,
   "id": "6ee89462-d010-4646-ab34-774f46fa5696",
   "metadata": {},
   "outputs": [
    {
     "name": "stdout",
     "output_type": "stream",
     "text": [
      "Sisa saldo pulsa: 40000\n"
     ]
    }
   ],
   "source": [
    "saldo_pulsa = 50000\n",
    "saldo_pulsa += 20000  \n",
    "saldo_pulsa -= 30000  \n",
    "\n",
    "print(\"Sisa saldo pulsa:\", saldo_pulsa)"
   ]
  },
  {
   "cell_type": "markdown",
   "id": "802c1f94-2725-4823-98f6-b095e79cacca",
   "metadata": {},
   "source": [
    "<h1>Operator Keanggotaan</h1>"
   ]
  },
  {
   "cell_type": "code",
   "execution_count": 19,
   "id": "1bd43e2a-c859-44e3-8154-1957b402a969",
   "metadata": {},
   "outputs": [
    {
     "name": "stdout",
     "output_type": "stream",
     "text": [
      "Apakah Eka terdaftar sebagai peserta? False\n",
      "Apakah 'Python' ada dalam kalimat? True\n"
     ]
    }
   ],
   "source": [
    "peserta = [\"Andi\", \"Budi\", \"Citra\", \"Dewi\"]\n",
    "\n",
    "print(\"Apakah Eka terdaftar sebagai peserta?\", \"Eka\" in peserta)\n",
    "\n",
    "kalimat = \"Saya suka belajar Python\"\n",
    "print(\"Apakah 'Python' ada dalam kalimat?\", \"Python\" in kalimat)"
   ]
  },
  {
   "cell_type": "markdown",
   "id": "08096171-8a0b-4a9e-ae4c-7f240a4aeac2",
   "metadata": {},
   "source": [
    "<h1>Operator Identitas</h1>"
   ]
  },
  {
   "cell_type": "code",
   "execution_count": 22,
   "id": "39d08a86-f3c5-4bfd-8364-b400e6fc1c8e",
   "metadata": {},
   "outputs": [
    {
     "name": "stdout",
     "output_type": "stream",
     "text": [
      "Apakah x dan y adalah objek yang sama? True\n",
      "Apakah list1 dan list2 adalah objek yang sama? False\n"
     ]
    }
   ],
   "source": [
    "x = 10\n",
    "y = 10\n",
    "\n",
    "print(\"Apakah x dan y adalah objek yang sama?\", x is y)\n",
    "\n",
    "list1 = [1, 2, 3]\n",
    "list2 = [1, 2, 3]\n",
    "\n",
    "print(\"Apakah list1 dan list2 adalah objek yang sama?\", list1 is list2)"
   ]
  },
  {
   "cell_type": "markdown",
   "id": "6cac2a9e-7570-45c3-921e-6a82b0e31335",
   "metadata": {},
   "source": [
    "<h1>Operator Ternary</h1>"
   ]
  },
  {
   "cell_type": "code",
   "execution_count": 25,
   "id": "ae273fce-6923-4514-87c9-69632a792400",
   "metadata": {},
   "outputs": [
    {
     "name": "stdout",
     "output_type": "stream",
     "text": [
      "Lebih dari 100\n",
      "Lulus\n"
     ]
    }
   ],
   "source": [
    "angka = 120\n",
    "hasil = \"Lebih dari 100\" if angka > 100 else \"100 atau kurang\"\n",
    "print(hasil)\n",
    "\n",
    "nilai_ujian = 75\n",
    "status = \"Lulus\" if nilai_ujian > 70 else \"Tidak Lulus\"\n",
    "print(status)"
   ]
  },
  {
   "cell_type": "code",
   "execution_count": null,
   "id": "3abfb0c3-2cca-4d4d-bb6b-50835b24b47f",
   "metadata": {},
   "outputs": [],
   "source": []
  }
 ],
 "metadata": {
  "kernelspec": {
   "display_name": "Python [conda env:base] *",
   "language": "python",
   "name": "conda-base-py"
  },
  "language_info": {
   "codemirror_mode": {
    "name": "ipython",
    "version": 3
   },
   "file_extension": ".py",
   "mimetype": "text/x-python",
   "name": "python",
   "nbconvert_exporter": "python",
   "pygments_lexer": "ipython3",
   "version": "3.12.7"
  }
 },
 "nbformat": 4,
 "nbformat_minor": 5
}
