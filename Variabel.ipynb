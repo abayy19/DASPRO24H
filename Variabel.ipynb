{
 "cells": [
  {
   "cell_type": "code",
   "execution_count": 1,
   "id": "ce3ce447-f7c7-4f6e-9c23-a32bc1bd047e",
   "metadata": {},
   "outputs": [
    {
     "name": "stdout",
     "output_type": "stream",
     "text": [
      "Nama : abayy\n",
      "Alamat : Jl.Raya parungkuda\n",
      "Umur : 15\n",
      "Nilai Pemograman : 99.9\n",
      "StatusNikah : False\n",
      "propinsi: 743412\n"
     ]
    }
   ],
   "source": [
    "name = \"abayy\"\n",
    "address,province = \"Jl.Raya parungkuda\",\"743412\"\n",
    "age = 15\n",
    "scorePython = 99.9\n",
    "isMarried = False\n",
    "\n",
    "print(\"Nama :\",name)\n",
    "print(\"Alamat :\",address)\n",
    "print(\"Umur :\",age)\n",
    "print(\"Nilai Pemograman :\",scorePython)\n",
    "print(\"StatusNikah :\",isMarried)\n",
    "print(\"propinsi:\",province)"
   ]
  },
  {
   "cell_type": "code",
   "execution_count": 3,
   "id": "2ea1f766-602f-4370-a189-2e7a9fdeed8d",
   "metadata": {},
   "outputs": [
    {
     "name": "stdout",
     "output_type": "stream",
     "text": [
      "743414-743412.0-True\n",
      "743412-743412.0-True\n",
      "99.9-99.9-99.9\n",
      "0_False_0.0\n",
      "Nilai desimal : 500\n",
      "Nilai biner : 10\n",
      "Nilai octal : 255\n",
      "Nilai hexa : 255\n",
      "Nilai biner dari  500 : 0b111110100\n",
      "Nilai Octal dari  500 : 0o764\n",
      "Nilai Hexa dari  500 : 0x1f4\n"
     ]
    }
   ],
   "source": [
    "#Casting / KOnversi Tipe Data \n",
    "#1 String ke (int,float,boolean)\n",
    "strToInt = int(province)\n",
    "strToFloat = float(province)\n",
    "strToBool = bool(province)\n",
    "print(strToInt + 2,strToFloat,strToBool, sep=\"-\")\n",
    "\n",
    "#2 Int ke (str, float, boolean)\n",
    "intToStr = str(province)\n",
    "intToFloat = float(province)\n",
    "intToBool = bool(province)\n",
    "print(intToStr, intToFloat, intToBool , sep=\"-\") \n",
    "#3 float ke (int, str , boolean)\n",
    "floatToInt = (scorePython)\n",
    "floatToStr = (scorePython)\n",
    "floatToBool = (scorePython)\n",
    "print(floatToInt, floatToStr, floatToBool, sep=\"-\")\n",
    "\n",
    "\n",
    "#4 Bool ke ( int, str, boolean)\n",
    "boolToInt = int(isMarried)\n",
    "boolToStr = str(isMarried)\n",
    "boolToFloat = float(isMarried)\n",
    "print(boolToInt, boolToStr, boolToFloat, sep=\"_\")\n",
    "\n",
    "#Tipe data basis bilangan (desimal,biner,octal, hexa)\n",
    "\n",
    "desimal = 500\n",
    "biner = 0b1010 #10\n",
    "octal = 0o377 #255\n",
    "hexa = 0xff #255\n",
    "\n",
    "print(\"Nilai desimal :\",desimal)\n",
    "print(\"Nilai biner :\",biner)\n",
    "print(\"Nilai octal :\",octal)\n",
    "print(\"Nilai hexa :\",hexa)\n",
    "\n",
    "print(\"Nilai biner dari \",desimal, \":\",bin(desimal))\n",
    "print(\"Nilai Octal dari \",desimal, \":\",oct(desimal))\n",
    "print(\"Nilai Hexa dari \", desimal, \":\",hex(desimal))"
   ]
  },
  {
   "cell_type": "code",
   "execution_count": 5,
   "id": "2f24d64b-078c-4ad7-82eb-aef52f1241aa",
   "metadata": {},
   "outputs": [
    {
     "name": "stdout",
     "output_type": "stream",
     "text": [
      "C\n",
      "7\n",
      "K\n"
     ]
    }
   ],
   "source": [
    "city = \"CIBADAK\"\n",
    "lenght = len(city)\n",
    "print(city[0])\n",
    "print(lenght)\n",
    "print(city[lenght-1])"
   ]
  },
  {
   "cell_type": "code",
   "execution_count": 9,
   "id": "b4eec353-4d0a-4f1a-8576-13d26a7e6e92",
   "metadata": {},
   "outputs": [
    {
     "name": "stdout",
     "output_type": "stream",
     "text": [
      "['Bandung', 'Sukabumi', 'Bogor', 'Jakarta', 'Medan']\n",
      "Bandung\n",
      "Medan\n",
      "M\n",
      "n\n",
      "['Bali', 'Sukabumi', 'Bogor', 'Jakarta', 'Medan']\n",
      "('Andi', 'Ferdi', 'Wawan')\n",
      "Ferdi\n",
      "{'name': 'Ferdi', 'age': 25, 'address': {'street': 'Cisaat', 'number': 21, 'province': 'Jawa Barat'}, 'isMarried': True, 'hobbies': ['Basket, Futsal, Makan']}\n",
      "25\n",
      "Jawa Barat\n",
      "Basket, Futsal, Makan\n",
      "{'name': 'usep', 'age': 22, 'address': {'street': 'Cibaduyut', 'number': 11, 'province': 'Jawa Timur'}, 'isMarried': True, 'hobbies': ['Basket, Futsal, Makan']}\n",
      "Jawa Timur\n"
     ]
    }
   ],
   "source": [
    "#Tipe data Collection\n",
    "cities =[\"Bandung\",\"Sukabumi\",\"Bogor\",\"Jakarta\",\"Medan\"]\n",
    "lenghtCities = len(cities)\n",
    "print(cities)\n",
    "print(cities[0])\n",
    "print(cities[lenghtCities-1])\n",
    "print(cities[lenghtCities-6][0])\n",
    "print(cities[lenghtCities-1][len(cities[lenghtCities-1])-1])\n",
    "#cities[5] \"Malang\" akan menyebabkan error out of range\n",
    "cities[0] = \"Bali\"\n",
    "print(cities)\n",
    "\n",
    "\n",
    "names = (\"Andi\",\"Ferdi\",\"Wawan\")\n",
    "print(names)\n",
    "print(names[1])\n",
    "#names[0] = \"Dedi\" error imumutable tuple\n",
    "\n",
    "studentData = {\n",
    "    \"name\" : \"Ferdi\",\n",
    "    \"age\" : 25,\n",
    "    \"address\" : {\n",
    "        \"street\" : \"Cisaat\",\n",
    "        \"number\" : 21,\n",
    "        \"province\" : \"Jawa Barat\"\n",
    "    },\n",
    "    \"isMarried\" : True,\n",
    "    \"hobbies\" : [\"Basket, Futsal, Makan\"]\n",
    "} \n",
    "\n",
    "print(studentData)\n",
    "print(studentData[\"age\"])\n",
    "print(studentData[\"address\"] [\"province\"])\n",
    "print(studentData[\"hobbies\"] [0])\n",
    "\n",
    "studentList = [\n",
    "    {\n",
    "    \"name\" : \"usep\",\n",
    "    \"age\" : 22,\n",
    "    \"address\" : {\n",
    "        \"street\" : \"Cibaduyut\",\n",
    "        \"number\" : 11,\n",
    "        \"province\" : \"Jawa Timur\"\n",
    "    },\n",
    "    \"isMarried\" : True,\n",
    "    \"hobbies\" : [\"Basket, Futsal, Makan\"]\n",
    "    },\n",
    "\n",
    "    {\n",
    "     \"name\" : \"usep\",\n",
    "     \"age\" : 22,\n",
    "    \"address\" : {\n",
    "        \"street\" : \"Cibaduyut\",\n",
    "        \"number\" : 11,\n",
    "        \"province\" : \"Jawa Timur\"\n",
    "    },\n",
    "    \"isMarried\" : True,\n",
    "    \"hobbies\" : [\"Basket, Futsal, Makan\"]\n",
    "    }      \n",
    "    \n",
    "]\n",
    "print(studentList[1])\n",
    "print(studentList[1][\"address\"][\"province\"])"
   ]
  },
  {
   "cell_type": "code",
   "execution_count": null,
   "id": "7e4daf15-2ebd-4b2e-82a6-0abadbdfa6ed",
   "metadata": {},
   "outputs": [],
   "source": []
  }
 ],
 "metadata": {
  "kernelspec": {
   "display_name": "Python [conda env:base] *",
   "language": "python",
   "name": "conda-base-py"
  },
  "language_info": {
   "codemirror_mode": {
    "name": "ipython",
    "version": 3
   },
   "file_extension": ".py",
   "mimetype": "text/x-python",
   "name": "python",
   "nbconvert_exporter": "python",
   "pygments_lexer": "ipython3",
   "version": "3.12.7"
  }
 },
 "nbformat": 4,
 "nbformat_minor": 5
}
